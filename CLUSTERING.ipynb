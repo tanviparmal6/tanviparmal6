{
 "cells": [
  {
   "cell_type": "markdown",
   "metadata": {},
   "source": [
    "# Clustering"
   ]
  },
  {
   "cell_type": "code",
   "execution_count": 1,
   "metadata": {},
   "outputs": [],
   "source": [
    "import numpy as np\n",
    "import pandas as pd\n",
    "import matplotlib.pyplot as plt\n",
    "import statsmodels.api as sm\n",
    "import statsmodels.formula.api as smf\n",
    "import sklearn\n",
    "import sklearn.tree as tree\n",
    "from sklearn.cluster import KMeans\n",
    "from sklearn.model_selection import train_test_split\n",
    "from sklearn.metrics import confusion_matrix,classification_report\n",
    "from sklearn.linear_model import LogisticRegression\n",
    "from sklearn.discriminant_analysis import LinearDiscriminantAnalysis\n",
    "from sklearn.discriminant_analysis import QuadraticDiscriminantAnalysis\n",
    "from sklearn.neighbors import KNeighborsClassifier\n",
    "from sklearn.metrics import roc_curve, auc\n",
    "from sklearn.preprocessing import StandardScaler\n",
    "from random import choices\n",
    "from sklearn.metrics import mean_squared_error\n",
    "from sklearn.datasets import load_breast_cancer\n",
    "from sklearn.tree import DecisionTreeClassifier\n",
    "from sklearn.metrics import accuracy_score\n",
    "from sklearn.datasets import load_iris\n",
    "from scipy.cluster.hierarchy import dendrogram, linkage"
   ]
  },
  {
   "cell_type": "markdown",
   "metadata": {},
   "source": [
    "## 2.1 K-means clustering"
   ]
  },
  {
   "cell_type": "code",
   "execution_count": 2,
   "metadata": {
    "scrolled": true
   },
   "outputs": [],
   "source": [
    "\n",
    "X = np.random.randn( 50 , 2 )\n",
    "X[0:25,0] = X[0:25,0] + 3\n",
    "X [0:25,1] = X[0:25,1] - 4"
   ]
  },
  {
   "cell_type": "code",
   "execution_count": 3,
   "metadata": {
    "scrolled": true
   },
   "outputs": [
    {
     "data": {
      "text/plain": [
       "Text(0, 0.5, 'X2')"
      ]
     },
     "execution_count": 3,
     "metadata": {},
     "output_type": "execute_result"
    },
    {
     "data": {
      "image/png": "[encoded data removed]",
      "text/plain": [
       "<Figure size 432x288 with 1 Axes>"
      ]
     },
     "metadata": {
      "needs_background": "light"
     },
     "output_type": "display_data"
    }
   ],
   "source": [
    "\n",
    "plt.plot(X[:,0],X[:,1],'o' )\n",
    "plt.xlabel('X1')\n",
    "plt.ylabel('X2')"
   ]
  },
  {
   "cell_type": "code",
   "execution_count": 4,
   "metadata": {},
   "outputs": [],
   "source": [
    "kmeans = KMeans ( n_clusters = 2 , random_state = 100).fit(X)"
   ]
  },
  {
   "cell_type": "code",
   "execution_count": 5,
   "metadata": {},
   "outputs": [
    {
     "data": {
      "text/plain": [
       "Text(0, 0.5, 'X2')"
      ]
     },
     "execution_count": 5,
     "metadata": {},
     "output_type": "execute_result"
    },
    {
     "data": {
      "image/png": "[encoded data removed]",
      "text/plain": [
       "<Figure size 432x288 with 1 Axes>"
      ]
     },
     "metadata": {
      "needs_background": "light"
     },
     "output_type": "display_data"
    }
   ],
   "source": [
    "for i in range( 0 ,X.shape[0]):\n",
    "    if kmeans.labels_[i] == 0 :\n",
    "        plt.plot(X[i:,0],X[i:,1], \"o\",color=\"red\" )\n",
    "    else:\n",
    "        plt.plot(X[i:,0],X[i:,1],\"o\",color=\"blue\")\n",
    "centroid1=kmeans.cluster_centers_[ 0 ]\n",
    "centroid2=kmeans.cluster_centers_[ 1 ]\n",
    "plt.plot(centroid1[0],centroid1[1],\"*\",color=\"black\",markersize= 15 )\n",
    "plt.plot(centroid2[0],centroid2[1],\"*\",color= \"black\" ,markersize = 15 )\n",
    "plt.xlabel(\"X1\")\n",
    "plt.ylabel(\"X2\")"
   ]
  },
  {
   "cell_type": "code",
   "execution_count": 6,
   "metadata": {},
   "outputs": [],
   "source": [
    "scaler = StandardScaler()\n",
    "dfHVC = pd.read_csv('HCVdata.csv',index_col=0,sep=\";\")"
   ]
  },
  {
   "cell_type": "code",
   "execution_count": 7,
   "metadata": {},
   "outputs": [],
   "source": [
    "\n",
    "dfHVC[\"Category\"] = pd.Categorical(\n",
    "    dfHVC[\"Category\"], categories=[\"0=Blood Donor\", \"1=Hepatitis\", \"2=Fibrosis\",\"3=Cirrhosis\"], ordered=False\n",
    ")\n",
    "dfHVC[\"Sex\"] = pd.Categorical(\n",
    "    dfHVC[\"Sex\"], categories=[\"m\", \"f\"], ordered=False\n",
    ")\n",
    "\n",
    "\n",
    "\n",
    "cat_columns = dfHVC.select_dtypes(['category']).columns\n",
    "\n",
    "dfHVC[cat_columns] = dfHVC[cat_columns].apply(lambda x: x.cat.codes)\n",
    "\n"
   ]
  },
  {
   "cell_type": "markdown",
   "metadata": {},
   "source": [
    "There is two categorical variable to apply the transform I decided to convert them into numerical variables, the first one is Category with the values 0=Blood Donor, 1=Hepatitis, 2=Fibrosis,3=Cirrhosis. The other is the sex. There is also 10 numerical variable to complete the dataset."
   ]
  },
  {
   "cell_type": "code",
   "execution_count": 8,
   "metadata": {},
   "outputs": [],
   "source": [
    "\n",
    "dfHVC_copy = dfHVC\n",
    "dfHVC_copy = dfHVC_copy.drop(['Category', 'Sex'], axis=1)\n",
    "\n",
    "\n",
    "dfHVC_scaled = scaler.fit_transform(dfHVC_copy)\n",
    "\n",
    "\n"
   ]
  },
  {
   "cell_type": "markdown",
   "metadata": {},
   "source": [
    "We dropped the Categorical Variable since we need to scale only the numerical ones"
   ]
  },
  {
   "cell_type": "code",
   "execution_count": 27,
   "metadata": {},
   "outputs": [
    {
     "data": {
      "text/html": [
       "<div>\n",
       "<style scoped>\n",
       "    .dataframe tbody tr th:only-of-type {\n",
       "        vertical-align: middle;\n",
       "    }\n",
       "\n",
       "    .dataframe tbody tr th {\n",
       "        vertical-align: top;\n",
       "    }\n",
       "\n",
       "    .dataframe thead th {\n",
       "        text-align: right;\n",
       "    }\n",
       "</style>\n",
       "<table border=\"1\" class=\"dataframe\">\n",
       "  <thead>\n",
       "    <tr style=\"text-align: right;\">\n",
       "      <th>K−means clusters</th>\n",
       "      <th>0</th>\n",
       "      <th>1</th>\n",
       "      <th>2</th>\n",
       "      <th>3</th>\n",
       "    </tr>\n",
       "    <tr>\n",
       "      <th>Real groups</th>\n",
       "      <th></th>\n",
       "      <th></th>\n",
       "      <th></th>\n",
       "      <th></th>\n",
       "    </tr>\n",
       "  </thead>\n",
       "  <tbody>\n",
       "    <tr>\n",
       "      <th>0</th>\n",
       "      <td>252</td>\n",
       "      <td>244</td>\n",
       "      <td>0</td>\n",
       "      <td>0</td>\n",
       "    </tr>\n",
       "    <tr>\n",
       "      <th>1</th>\n",
       "      <td>1</td>\n",
       "      <td>20</td>\n",
       "      <td>0</td>\n",
       "      <td>2</td>\n",
       "    </tr>\n",
       "    <tr>\n",
       "      <th>2</th>\n",
       "      <td>3</td>\n",
       "      <td>17</td>\n",
       "      <td>0</td>\n",
       "      <td>0</td>\n",
       "    </tr>\n",
       "    <tr>\n",
       "      <th>3</th>\n",
       "      <td>3</td>\n",
       "      <td>4</td>\n",
       "      <td>3</td>\n",
       "      <td>18</td>\n",
       "    </tr>\n",
       "  </tbody>\n",
       "</table>\n",
       "</div>"
      ],
      "text/plain": [
       "K−means clusters    0    1  2   3\n",
       "Real groups                      \n",
       "0                 252  244  0   0\n",
       "1                   1   20  0   2\n",
       "2                   3   17  0   0\n",
       "3                   3    4  3  18"
      ]
     },
     "execution_count": 27,
     "metadata": {},
     "output_type": "execute_result"
    }
   ],
   "source": [
    "\n",
    "\n",
    "dfHVC_Kmeans4=KMeans(n_clusters=4,n_init= 50,random_state = 1000).fit(dfHVC_scaled )\n",
    "dfHVC_Kmeans4_labels = dfHVC_Kmeans4.labels_\n",
    "\n",
    "\n",
    "\n",
    "dfHVC_labels = dfHVC[\"Category\"]\n",
    "\n",
    "\n",
    "\n",
    "pd.crosstab(index=dfHVC_labels ,\n",
    "columns = dfHVC_Kmeans4_labels ,\n",
    "rownames = [ 'Real groups' ] ,\n",
    "colnames = ['K−means clusters'] )\n",
    "\n",
    "\n"
   ]
  },
  {
   "cell_type": "markdown",
   "metadata": {},
   "source": [
    "The result is actually pretty good here in the 4 cluster there is always one very domminating value increasing the number of cluster might help with cluster 1 and identifing a  cluster for the categorical 1 and 2 that are currently associated with it"
   ]
  },
  {
   "cell_type": "markdown",
   "metadata": {},
   "source": [
    "## 2.2 Hierarchical clustering"
   ]
  },
  {
   "cell_type": "code",
   "execution_count": 10,
   "metadata": {},
   "outputs": [],
   "source": [
    "from scipy.cluster.hierarchy import linkage\n",
    "hc_complete=linkage(X,\"complete\")"
   ]
  },
  {
   "cell_type": "code",
   "execution_count": 11,
   "metadata": {},
   "outputs": [],
   "source": [
    "hc_average = linkage(X, \"average\")\n",
    "hc_single = linkage(X, \"single\")"
   ]
  },
  {
   "cell_type": "code",
   "execution_count": 12,
   "metadata": {},
   "outputs": [
    {
     "data": {
      "image/png": "[encoded data removed]",
      "text/plain": [
       "<Figure size 432x288 with 1 Axes>"
      ]
     },
     "metadata": {
      "needs_background": "light"
     },
     "output_type": "display_data"
    }
   ],
   "source": [
    "import scipy.cluster.hierarchy as sch\n",
    "dendrogram=sch.dendrogram(sch.linkage(X,method='ward'))\n",
    "plt.title('Dendrogram')\n",
    "plt.xlabel('blood donors')\n",
    "plt.ylabel('Euclidean distances')\n",
    "plt.show()"
   ]
  },
  {
   "cell_type": "code",
   "execution_count": 13,
   "metadata": {},
   "outputs": [
    {
     "name": "stdout",
     "output_type": "stream",
     "text": [
      "[[0 0 0 0 0 0 0 0 0 0 0 0 0 0 0 0 0 0 0 0 0 0 0 0 0 0 1 1 1 1 1 1 1 1 1 1\n",
      "  1 1 1 1 1 1 1 1 1 1 1 1 1 1]]\n"
     ]
    }
   ],
   "source": [
    "from scipy.cluster.hierarchy import cut_tree\n",
    "print(cut_tree(hc_complete,n_clusters=2).T)"
   ]
  },
  {
   "cell_type": "markdown",
   "metadata": {},
   "source": [
    "Perform hierarchical clustering using the HCVdata using complete, average and\n",
    "single linkage. To begin you will cut the dendrogram at 4 clusters."
   ]
  },
  {
   "cell_type": "code",
   "execution_count": 14,
   "metadata": {},
   "outputs": [],
   "source": [
    "from sklearn.cluster import AgglomerativeClustering\n",
    "hc=AgglomerativeClustering(n_clusters=4, affinity='euclidean',linkage='ward')\n",
    "y_hc=hc.fit_predict(X)"
   ]
  },
  {
   "cell_type": "code",
   "execution_count": 15,
   "metadata": {},
   "outputs": [
    {
     "data": {
      "text/plain": [
       "<matplotlib.collections.PathCollection at 0x1da56698a00>"
      ]
     },
     "execution_count": 15,
     "metadata": {},
     "output_type": "execute_result"
    },
    {
     "data": {
      "image/png": "[encoded data removed]",
      "text/plain": [
       "<Figure size 432x288 with 1 Axes>"
      ]
     },
     "metadata": {
      "needs_background": "light"
     },
     "output_type": "display_data"
    }
   ],
   "source": [
    "plt.scatter(X[y_hc==0,0], X[y_hc==0,1], s=100, c='cyan')\n",
    "plt.scatter(X[y_hc==1,0], X[y_hc==1,1], s=100, c='yellow')\n",
    "plt.scatter(X[y_hc==2,0], X[y_hc==2,1], s=100, c='red')\n",
    "plt.scatter(X[y_hc==3,0], X[y_hc==3,1], s=100, c='green')\n"
   ]
  },
  {
   "cell_type": "markdown",
   "metadata": {},
   "source": [
    "2)Plot the dendrogram. "
   ]
  },
  {
   "cell_type": "code",
   "execution_count": 16,
   "metadata": {},
   "outputs": [
    {
     "name": "stdout",
     "output_type": "stream",
     "text": [
      "[[0.         4.76149252 0.99103902 ... 9.74282202 7.27913252 6.57430632]\n",
      " [4.76149252 0.         3.87909228 ... 6.93104776 4.62220208 4.0347774 ]\n",
      " [0.99103902 3.87909228 0.         ... 9.3779806  6.88064543 6.16827094]\n",
      " ...\n",
      " [9.74282202 6.93104776 9.3779806  ... 0.         2.50271263 3.21392162]\n",
      " [7.27913252 4.62220208 6.88064543 ... 2.50271263 0.         0.7124184 ]\n",
      " [6.57430632 4.0347774  6.16827094 ... 3.21392162 0.7124184  0.        ]]\n"
     ]
    }
   ],
   "source": [
    "from scipy.spatial import distance_matrix\n",
    "dist_matrix = distance_matrix(X,X) \n",
    "print(dist_matrix)\n"
   ]
  },
  {
   "cell_type": "code",
   "execution_count": 17,
   "metadata": {},
   "outputs": [
    {
     "data": {
      "image/png": "[encoded data removed]",
      "text/plain": [
       "<Figure size 432x288 with 1 Axes>"
      ]
     },
     "metadata": {
      "needs_background": "light"
     },
     "output_type": "display_data"
    }
   ],
   "source": [
    "from scipy.cluster import hierarchy\n",
    "from scipy.cluster.hierarchy import dendrogram\n",
    "\n",
    "\n",
    "hc_complete=linkage(X,\"complete\")\n",
    "Z = hierarchy.linkage(X, method='average')\n",
    "dendro = hierarchy.dendrogram(Z)\n",
    "\n",
    "\n",
    "\n",
    "\n",
    "def plot_dendrogram(model, **kwargs):\n",
    "    # Create linkage matrix and then plot the dendrogram\n",
    "\n",
    "    # create the counts of samples under each node\n",
    "    counts = np.zeros(model.children_.shape[0])\n",
    "    n_samples = len(model.labels_)\n",
    "    for i, merge in enumerate(model.children_):\n",
    "        current_count = 0\n",
    "        for child_idx in merge:\n",
    "            if child_idx < n_samples:\n",
    "                current_count += 1  # leaf node\n",
    "            else:\n",
    "                current_count += counts[child_idx - n_samples]\n",
    "        counts[i] = current_count\n",
    "\n",
    "    linkage_matrix = np.column_stack(\n",
    "        [model.children_, model.distances_, counts]\n",
    "    ).astype(float)\n",
    "\n",
    "    # Plot the corresponding dendrogram\n",
    "    dendrogram(linkage_matrix, **kwargs)\n",
    "\n",
    "\n",
    "\n",
    "hc = AgglomerativeClustering(distance_threshold=0, n_clusters=None)\n",
    "y_hc=hc.fit_predict(X)\n",
    "\n",
    "plot_dendrogram(hc, truncate_mode=\"level\", p=4)\n",
    "plt.show()"
   ]
  },
  {
   "cell_type": "code",
   "execution_count": 18,
   "metadata": {},
   "outputs": [
    {
     "data": {
      "image/png": "[encoded data removed]",
      "text/plain": [
       "<Figure size 432x288 with 1 Axes>"
      ]
     },
     "metadata": {
      "needs_background": "light"
     },
     "output_type": "display_data"
    }
   ],
   "source": [
    "# Creating Dendrogram for our data\n",
    "# Z = linkage matrix\n",
    "\n",
    "  \n",
    "plt.figure()\n",
    "plt.title(\"Dendrograms\")\n",
    "  \n",
    "# Dendrogram plotting using linkage matrix\n",
    "dendrogram = hierarchy.dendrogram(Z)\n"
   ]
  },
  {
   "cell_type": "code",
   "execution_count": 19,
   "metadata": {},
   "outputs": [
    {
     "data": {
      "text/plain": [
       "<matplotlib.lines.Line2D at 0x1da57a4dbb0>"
      ]
     },
     "execution_count": 19,
     "metadata": {},
     "output_type": "execute_result"
    },
    {
     "data": {
      "image/png": "[encoded data removed]",
      "text/plain": [
       "<Figure size 432x288 with 1 Axes>"
      ]
     },
     "metadata": {
      "needs_background": "light"
     },
     "output_type": "display_data"
    }
   ],
   "source": [
    " #Creating Dendrogram for our data\n",
    "# max_d = cut-off/ Threshold value\n",
    "max_d = 4\n",
    "  \n",
    "Z = hierarchy.linkage(X, method='average')\n",
    "plt.figure()\n",
    "plt.title(\"Dendrograms\")\n",
    "dendrogram = hierarchy.dendrogram(Z)\n",
    "  \n",
    "# Cutting the dendrogram at max_d\n",
    "plt.axhline(y=max_d, c='k')"
   ]
  },
  {
   "cell_type": "markdown",
   "metadata": {},
   "source": [
    "Do you think is it suitable to cut the dendrogram at a level different from 4 clusters ? If so, why ?\n",
    "->The common practice to flatten dendrograms in k clusters is to cut them off at constant height k−1."
   ]
  },
  {
   "cell_type": "code",
   "execution_count": 20,
   "metadata": {},
   "outputs": [
    {
     "data": {
      "text/plain": [
       "array([[2, 1, 0, 0],\n",
       "       [0, 1, 2, 0],\n",
       "       [0, 0, 0, 2]])"
      ]
     },
     "execution_count": 20,
     "metadata": {},
     "output_type": "execute_result"
    }
   ],
   "source": [
    "from sklearn.metrics.cluster import contingency_matrix\n",
    "x = [\"a\", \"a\", \"a\", \"b\", \"b\", \"b\",\"c\",\"c\"]\n",
    "y = [0, 0, 1, 1, 2, 2,3,3]\n",
    "contingency_matrix(x, y)\n",
    "\n"
   ]
  },
  {
   "cell_type": "code",
   "execution_count": null,
   "metadata": {
    "scrolled": false
   },
   "outputs": [],
   "source": []
  },
  {
   "cell_type": "code",
   "execution_count": null,
   "metadata": {},
   "outputs": [],
   "source": []
  }
 ],
 "metadata": {
  "kernelspec": {
   "display_name": "Python 3",
   "language": "python",
   "name": "python3"
  },
  "language_info": {
   "codemirror_mode": {
    "name": "ipython",
    "version": 3
   },
   "file_extension": ".py",
   "mimetype": "text/x-python",
   "name": "python",
   "nbconvert_exporter": "python",
   "pygments_lexer": "ipython3",
   "version": "3.8.8"
  }
 },
 "nbformat": 4,
 "nbformat_minor": 4
}
